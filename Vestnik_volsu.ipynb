{
 "cells": [
  {
   "cell_type": "markdown",
   "metadata": {},
   "source": [
    "Графики построены в пакете [Gnuplot.jl](https://github.com/gcalderone/Gnuplot.jl). Интегралы решаются [мотодом Ромберга](https://en.wikipedia.org/wiki/Romberg%27s_method).\n",
    "\n",
    "For plots use [Gnuplot.jl](https://github.com/gcalderone/Gnuplot.jl) package. Integrals are solved by the [Romberg method](https://en.wikipedia.org/wiki/Romberg%27s_method)."
   ]
  },
  {
   "cell_type": "code",
   "execution_count": null,
   "metadata": {},
   "outputs": [],
   "source": [
    "using Gnuplot"
   ]
  },
  {
   "cell_type": "code",
   "execution_count": null,
   "metadata": {},
   "outputs": [],
   "source": [
    "function trapez(f, bot, top, h)\n",
    "    \n",
    "    result = 0.5*(f(bot) + f(top))\n",
    "    \n",
    "    for x in (bot+h):h:(top-h)\n",
    "        result += f(x)\n",
    "    end\n",
    "    result * h\n",
    "end\n",
    "\n",
    "function romberg(fn, a, b, steps=5, debug=false)\n",
    "\n",
    "    table = zeros(steps, steps)\n",
    "    pow_4 = 4 .^ [0:steps-1;] .- 1\n",
    "    # trapezoidal rule\n",
    "    h = (b - a)\n",
    "    table[1] = h * (fn(a) + fn(b)) / 2\n",
    "    \n",
    "    for j in 2:steps\n",
    "        h *= 0.5\n",
    "        # extended trapezoidal rule\n",
    "        table[j, 1] = 0.5table[j - 1, 1]\n",
    "        table[j, 1] += h * sum( i-> fn(a + i*h), 1:2:2^(j-1) )\n",
    "\n",
    "        # richardson extrapolation\n",
    "        for k in 2:j\n",
    "            table[j, k] = table[j, k - 1] +\n",
    "                (table[j, k - 1] - table[j - 1, k - 1]) / pow_4[k]\n",
    "        end\n",
    "    end\n",
    "    return table[end]\n",
    "end"
   ]
  },
  {
   "cell_type": "code",
   "execution_count": null,
   "metadata": {},
   "outputs": [],
   "source": [
    "# решает два интеграла одновременно\n",
    "# solves two integrals simultaneously\n",
    "function romberg2(fn, a, b, steps=5, debug=false)\n",
    "    table = fill([0.0, 0.0], steps, steps)\n",
    "    pow_4 = 4 .^ [0:steps-1;] .- 1\n",
    "    h = (b - a)\n",
    "    table[1] .= 0.5h * (fn(a) + fn(b))\n",
    "    \n",
    "    for j in 2:steps\n",
    "        h *= 0.5\n",
    "        table[j, 1] .= 0.5table[j-1, 1]\n",
    "        table[j, 1] += h * sum( i-> fn(a + i*h), 1:2:2^(j-1) )\n",
    "        for k in 2:j\n",
    "            table[j, k] .= table[j, k - 1] +\n",
    "                (table[j, k-1] - table[j-1, k-1]) / pow_4[k]\n",
    "        end\n",
    "    end\n",
    "    return table[end]\n",
    "end"
   ]
  },
  {
   "cell_type": "code",
   "execution_count": null,
   "metadata": {},
   "outputs": [],
   "source": [
    "const ħ = 6.582e-16 # эВ·c\n",
    "const kT = 0.025\n",
    "const ieV = 1e-12/ħ "
   ]
  },
  {
   "cell_type": "code",
   "execution_count": null,
   "metadata": {},
   "outputs": [],
   "source": [
    "function Xres(t, γ = 0.001, Ωᵣ = 0.05)\n",
    "    if Ωᵣ^2 < 0.25*γ^2\n",
    "        Om = sqrt( 0.25*γ^2 - Ωᵣ^2 )\n",
    "        X = exp( -0.5γ*t )*(cosh(Om*t) + 0.5γ/Om*sinh(Om*t) )\n",
    "    else\n",
    "        Om = sqrt( Ωᵣ^2 - 0.25*γ^2 )\n",
    "        X = exp( -0.5γ*t )*( cos(Om*t) + 0.5γ/Om*sin(Om*t) )\n",
    "    end\n",
    "    return X\n",
    "end"
   ]
  },
  {
   "cell_type": "markdown",
   "metadata": {},
   "source": [
    "Реализация формул (14) и (15):  \n",
    "Implementation of equations (14) and (15):"
   ]
  },
  {
   "cell_type": "code",
   "execution_count": null,
   "metadata": {},
   "outputs": [],
   "source": [
    "function calcdyn(;ω::Float64, ΔG = -2.5, Eᵣ = 0.2, τₑ = 0.1, ωₑ = 3.0,\n",
    "                Tm::Array{Float64,1}, γ = 5e-3, Ωᵣ = 1e-2, tq = 1.0, td = 2.0,\n",
    "                weights::Array{Float64,1} = [0.3, 0.3, 0.4] )\n",
    "    \n",
    "    b = Eᵣ*kT\n",
    "    τₑ *= ieV; td *= ieV; tq *= ieV; T = Tm*ieV\n",
    "    Zₑ = τₑ*sqrt( 2π^2*b/(2b+τₑ^-2) ) * exp( -(ωₑ + ΔG - Eᵣ)^2 / (4b + 2/(τₑ^2)) )\n",
    "        \n",
    "    X(t) = weights[1]*exp( -(t/tq)^2 ) + \n",
    "            weights[2]*exp( -t/td ) + \n",
    "            weights[3]*Xres(t,γ,Ωᵣ)\n",
    "    \n",
    "    function Φ(ξ::Float64, y₁::Float64, t::Float64)\n",
    "        Xt = X(t-ξ)\n",
    "        Xt > 1.0 && (Xt = 1.0)\n",
    "        ħω = y₁ - 2Eᵣ*Xt\n",
    "        ħδωₑ = ωₑ + ΔG - Eᵣ - ħω*Xt\n",
    "        σₑ² = 2b*(1 - Xt^2) + τₑ^-2\n",
    "        (Zₑ*sqrt(σₑ²))^-1 * exp( -ħω^2 / 4b - 2*(ξ/τₑ)^2 - ħδωₑ^2 / 2σₑ² )\n",
    "    end\n",
    "    \n",
    "    y₁ = ω + ΔG + Eᵣ\n",
    "    #[ ω^3 * trapez( ξ-> Φ(ξ, y₁, t), -5τₑ, t, 1e-2ieV ) for t in T ]\n",
    "    [  ω^3 * romberg( ξ-> Φ(ξ, y₁, t), -5τₑ, t, 14 ) for t in T ] #\n",
    "end"
   ]
  },
  {
   "cell_type": "code",
   "execution_count": null,
   "metadata": {},
   "outputs": [],
   "source": [
    "Ωmin = 1.5\n",
    "Ωmax = 3.2\n",
    "Tspan = collect(range(0, 3, 256))\n",
    "Ωspan = collect( range(Ωmin, stop = Ωmax, length = 256) );"
   ]
  },
  {
   "cell_type": "code",
   "execution_count": null,
   "metadata": {},
   "outputs": [],
   "source": [
    "S0 = zeros(length(Ωspan), length(Tspan));"
   ]
  },
  {
   "cell_type": "code",
   "execution_count": null,
   "metadata": {},
   "outputs": [],
   "source": [
    "@time for i in 1:length(Ωspan)\n",
    "    S0[i, :] .= calcdyn( ω = Ωspan[i], Tm = Tspan, ΔG = -2.5, Eᵣ = 0.2, τₑ = 0.1, ωₑ = 3.0,\n",
    "                γ = 2e-3, Ωᵣ = 1e-2, weights = [0.3, 0.3, 0.4] ) \n",
    "end\n",
    "for k in 1:length(Tspan)\n",
    "    S0[:,k] /= maximum(S0[:,k])\n",
    "end\n",
    "M1 = [ sum(S0[:,i] .* Ωspan)/sum(S0[:,i]) for i in 1:length(Tspan) ];"
   ]
  },
  {
   "cell_type": "code",
   "execution_count": null,
   "metadata": {
    "scrolled": false
   },
   "outputs": [],
   "source": [
    "@gp \"set title 'Spectra dynamics'\" xlab=\"t, ps\" ylab=\"freq, eV\"\n",
    "@gp :- Tspan Ωspan S0' \"w image notit\"\n",
    "@gp :- Tspan M1 \"with  lines notit dt 1 lw 2 lc rgb 'green'\""
   ]
  },
  {
   "cell_type": "markdown",
   "metadata": {},
   "source": [
    "Реализация формул (22) и (23):  \n",
    "Implementation of equations (22) and (23):"
   ]
  },
  {
   "cell_type": "code",
   "execution_count": null,
   "metadata": {},
   "outputs": [],
   "source": [
    "function calcul(; ΔG = -2.5, Eᵣ = 0.2, τₑ = 0.1, ħωₑ = 3.0,\n",
    "                Tm::Array{Float64,1}, γ = 5e-3, Ωᵣ = 1e-2, tq = 1.0, td = 2.0,\n",
    "                weights::Array{Float64,1} = [0.3, 0.3, 0.4] )\n",
    "    \n",
    "    E = ΔG + Eᵣ\n",
    "    U = ΔG - Eᵣ + ħωₑ\n",
    "    τₑ *= ieV; td *= ieV; tq *= ieV; T = Tm*ieV \n",
    "    e = 4Eᵣ*kT\n",
    "    s = e + 2/τₑ^2\n",
    "    a = 2e/s\n",
    "    W = 4Eᵣ + U*a\n",
    "    Om = sqrt( complex(Ωᵣ^2 - 0.25γ^2) )\n",
    "    X(t) = weights[1]*exp(-(t/tq)^2) + weights[2]*exp(-t/td) + weights[3]*Xres(t, γ, Ωᵣ)\n",
    "\n",
    "    function Φ(τ::Float64, t::Float64)\n",
    "        Q = X(t-τ)#\n",
    "        Q > 1.0 && (Q = 1.0)\n",
    "        G = e*(2 - a*Q^2)\n",
    "        D = 2E - W*Q\n",
    "        expt2 = exp( -2*τ^2 / τₑ^2 )\n",
    "        F1 = (3*G^2 + 6G*D^2 + D^4) * expt2\n",
    "        F2 = (3*G + D^2)*D * expt2\n",
    "        [F1, F2]\n",
    "    end\n",
    "    \n",
    "    function I(t)\n",
    "        f1, f2 = romberg2( τ-> Φ(τ, t), -15τₑ, t, 14 )\n",
    "        -0.5*f1/f2\n",
    "    end\n",
    "    [ I(t) for t in T ]\n",
    "end"
   ]
  },
  {
   "cell_type": "markdown",
   "metadata": {},
   "source": [
    "Реализация формулы (28):  \n",
    "Implementation of equation (28):"
   ]
  },
  {
   "cell_type": "code",
   "execution_count": null,
   "metadata": {},
   "outputs": [],
   "source": [
    "using SpecialFunctions"
   ]
  },
  {
   "cell_type": "code",
   "execution_count": null,
   "metadata": {},
   "outputs": [],
   "source": [
    "xx = range(-2,2, 128)\n",
    "yy = erfc.(xx)\n",
    "zz = tanh.(xx)\n",
    "@gp xx yy \"with lines notit lw 3 lc rgb 'black'\"\n",
    "@gp :- xx zz \"with lines notit lw 3 lc rgb 'blue'\""
   ]
  },
  {
   "attachments": {
    "image.png": {
     "image/png": "[encoded data removed]"
    }
   },
   "cell_type": "markdown",
   "metadata": {},
   "source": [
    "![image.png](attachment:image.png)\n",
    "\n",
    "https://en.wikipedia.org/wiki/Multiset#Counting_multisets\n",
    "\n",
    "https://en.wikipedia.org/wiki/Multinomial_theorem"
   ]
  },
  {
   "cell_type": "code",
   "execution_count": null,
   "metadata": {},
   "outputs": [],
   "source": [
    "\n",
    "function per(n)\n",
    "    m = 4\n",
    "    N = binomial(n+m-1, m-1)\n",
    "    #println(N)\n",
    "    res = []\n",
    "    for i in 0:n, j in 0:n-i, k in 0:n-i-j\n",
    "        push!( res, (i,j,k,n-i-j-k) )\n",
    "    end\n",
    "    res\n",
    "end\n",
    "pers = per(3)"
   ]
  },
  {
   "cell_type": "code",
   "execution_count": null,
   "metadata": {},
   "outputs": [],
   "source": [
    "function calcfast(; ΔG = -2.5, Eᵣ = 0.2, τₑ = 0.1, ħωₑ = 3.0,\n",
    "                Tm::Array{Float64,1}, γ = 5e-3, Ωᵣ = 1e-2, tq = 1.0, td = 2.0,\n",
    "                weights::Array{Float64,1} = [0.3, 0.3, 0.4] )\n",
    "\n",
    "    E = ΔG + Eᵣ\n",
    "    U = ΔG - Eᵣ + ħωₑ\n",
    "    T = Tm*ieV; τₑ *= ieV; td *= ieV; tq *= ieV;\n",
    "    ε = 4Eᵣ*kT\n",
    "    ϰ = 2ε*τₑ^2 / (2+ε*τₑ^2)\n",
    "    W = 4Eᵣ + ϰ*U\n",
    "    K = 3ϰ*ε - W^2\n",
    "    L = 2*E^2 + ε\n",
    "    \n",
    "    p0 = 4*( L^2 + 2ε*(L+2*E^2) )\n",
    "    p1 = -16E*W*(L+2ε)\n",
    "    p2 = -4L*(K-2W^2)\n",
    "    p3 = 8E*W*K\n",
    "    p4 = K^2 - 6*ϰ^2*ε^2\n",
    "    \n",
    "    q0 = 4E*(L+2ε)\n",
    "    q1 = -6W*L\n",
    "    q2 = -2E*(K-2*W^2)\n",
    "    q3 = K*W\n",
    "    \n",
    "    Om = sqrt(complex( Ωᵣ^2 - 0.25*γ^2 ))\n",
    "    g = 0.5γ/Om\n",
    "    pers = [ per(n) for n in 1:4 ]\n",
    "    \n",
    "    function modesprod(t,k,l,m,n)\n",
    "        a = 2/τₑ^2 \n",
    "        c = k/tq^2\n",
    "        b = 0.5γ*(m+n) + l/td + im*Om*(m-n)\n",
    "        w = weights[1]^k * weights[2]^l * \n",
    "            (0.5weights[3])^(m+n) * (1-im*g)^n * (1+im*g)^m\n",
    "        ac = a+c\n",
    "        bc = b+2c*t\n",
    "        ba = b-2a*t\n",
    "        ee = exp( 0.25*(b*ba - 2a*t*bc)/ac )\n",
    "        er = 0.5*ba/sqrt(ac)\n",
    "        w * ee * erfc(er) / sqrt(ac)\n",
    "    end\n",
    "    \n",
    "    function oneterm(t, i)\n",
    "        k,l,m,n = i\n",
    "        koef = factorial(k+l+m+n) / ( factorial(k)*factorial(l)*factorial(m)*factorial(n) )\n",
    "        koef * modesprod(t,k,l,m,n)\n",
    "    end\n",
    "    \n",
    "    polin(t, n) = sum( i-> oneterm(t, i), pers[n] )\n",
    "    \n",
    "    function I2(t)\n",
    "        pols0 = modesprod(t,0,0,0,0)\n",
    "        pols1 = polin(t, 1)\n",
    "        pols2 = polin(t, 2)\n",
    "        pols3 = polin(t, 3)\n",
    "        pols4 = polin(t, 4)\n",
    "        \n",
    "        F1 = p0*pols0 + p1*pols1 + p2*pols2 + p3*pols3 + p4*pols4  \n",
    "        F2 = q0*pols0 + q1*pols1 + q2*pols2 + q3*pols3\n",
    "        -0.5*real(F1/F2)\n",
    "    end\n",
    "    \n",
    "    [ I2(t) for t in T ]\n",
    "end"
   ]
  },
  {
   "cell_type": "code",
   "execution_count": null,
   "metadata": {},
   "outputs": [],
   "source": [
    "@time M1b = calcul(Tm = Tspan, ΔG = -2.5, Eᵣ = 0.2, τₑ = 0.1, ħωₑ = 3.0,\n",
    "                γ = 2e-3, Ωᵣ = 1e-2, weights = [0.3, 0.3, 0.4]);"
   ]
  },
  {
   "cell_type": "markdown",
   "metadata": {},
   "source": [
    "Первый запуск медленнее из-за предкомпиляции  \n",
    "First run is slower due to precompilation"
   ]
  },
  {
   "cell_type": "code",
   "execution_count": null,
   "metadata": {},
   "outputs": [],
   "source": [
    "@time M1c = calcfast(Tm = Tspan, ΔG = -2.5, Eᵣ = 0.2, τₑ = 0.1, ħωₑ = 3.0,\n",
    "                γ = 2e-3, Ωᵣ = 1e-2, weights = [0.3, 0.3, 0.4]);"
   ]
  },
  {
   "cell_type": "code",
   "execution_count": null,
   "metadata": {},
   "outputs": [],
   "source": [
    "@gp Tspan M1c \"with lines tit 'newnew' lw 4 lc rgb 'black'\"\n",
    "@gp :- Tspan M1b \"with  lines tit 'new' dt 3 lw 2 lc rgb 'orange'\"\n",
    "@gp :- Tspan M1 \"with  lines tit 'old' dt 3 lw 1 lc rgb 'green'\""
   ]
  },
  {
   "cell_type": "code",
   "execution_count": null,
   "metadata": {},
   "outputs": [],
   "source": [
    "sum(abs, M1c-M1b)"
   ]
  },
  {
   "cell_type": "code",
   "execution_count": null,
   "metadata": {},
   "outputs": [],
   "source": [
    "@gp Tspan M1b-M1c \"with lines notit lw 3\""
   ]
  },
  {
   "cell_type": "markdown",
   "metadata": {},
   "source": []
  },
  {
   "cell_type": "code",
   "execution_count": null,
   "metadata": {},
   "outputs": [],
   "source": [
    "moms1 = calcfast( Tm = Tspan, ΔG = -2.5, Eᵣ = 0.5 );\n",
    "moms2 = calcfast( Tm = Tspan, ΔG = -1.5, Eᵣ = 0.5 );\n",
    "moms3 = calcfast( Tm = Tspan, ΔG = -0.6, Eᵣ = 0.5 );\n",
    "\n",
    "moms1b = calcfast( Tm = Tspan, ΔG = -2.5, Eᵣ = 0.1 );\n",
    "moms2b = calcfast( Tm = Tspan, ΔG = -1.5, Eᵣ = 0.1 );\n",
    "moms3b = calcfast( Tm = Tspan, ΔG = -0.6, Eᵣ = 0.1 );"
   ]
  },
  {
   "cell_type": "code",
   "execution_count": null,
   "metadata": {},
   "outputs": [],
   "source": [
    "fs = 16\n",
    "  # Helvetica Bold,20\n",
    "@gp \"set xlabel 't, пс' font 'Times New Roman,$fs'\"\n",
    "@gp :- \"set ylabel 'ħω, эВ' font 'Times New Roman,$fs'\"\n",
    "@gp :- \"set multiplot layout 1,2\"\n",
    "@gp :- 1 \"set title 'Er = 0.5 эВ' font 'Times New Roman,$fs'\"\n",
    "@gp :- \"set key title 'ΔG'\"\n",
    "@gp :-   Tspan moms1 \"with lines tit '-0.6' dt 1 lw 3 lc rgb 'red'\"\n",
    "@gp :-   Tspan moms2 \"with lines tit '-1.5' dt 2 lw 3 lc rgb 'green'\"\n",
    "@gp :-   Tspan moms3 \"with lines tit '-2.5' dt 3 lw 3 lc rgb 'blue'\"\n",
    "@gp :- 2 \"set title 'ΔG = -1.5 эВ' font 'Times New Roman,$fs'\"\n",
    "@gp :- \"set key title 'Er'\"\n",
    "@gp :-   Tspan moms1b \"with lines tit '1.4' dt 1 lw 3 lc rgb 'red'\"\n",
    "@gp :-   Tspan moms2b \"with lines tit '0.5' dt 2 lw 3 lc rgb 'green'\"\n",
    "@gp :-   Tspan moms3b \"with lines tit '0.1' dt 3 lw 3 lc rgb 'blue'\""
   ]
  },
  {
   "cell_type": "code",
   "execution_count": null,
   "metadata": {},
   "outputs": [],
   "source": [
    "fs = 16\n",
    "  # Helvetica Bold,20\n",
    "@gp \"set xlabel 't, пс' font 'Times New Roman,$fs'\"\n",
    "@gp :- \"set ylabel 'ħω, эВ' font 'Times New Roman,$fs'\"\n",
    "@gp :- \"set key left bottom title 'ΔG, эВ' font 'Times New Roman,$fs'\"\n",
    "@gp :-   Tspan moms1 \"with lines tit '-0.6' dt 1 lw 3 lc rgb 'red'\"\n",
    "@gp :-   Tspan moms2 \"with lines tit '-1.5' dt 1 lw 3 lc rgb 'black'\"\n",
    "@gp :-   Tspan moms3 \"with lines tit '-2.5' dt 1 lw 3 lc rgb 'blue'\"\n",
    "@gp :-   Tspan moms1b \"with lines notit dt 4 lw 3 lc rgb 'red'\"\n",
    "@gp :-   Tspan moms2b \"with lines notit dt 4 lw 3 lc rgb 'black'\"\n",
    "@gp :-   Tspan moms3b \"with lines notit dt 4 lw 3 lc rgb 'blue'\""
   ]
  },
  {
   "cell_type": "code",
   "execution_count": null,
   "metadata": {},
   "outputs": [],
   "source": [
    "Gnuplot.savescript(\"script_dGs_Ers.gp\")"
   ]
  },
  {
   "cell_type": "code",
   "execution_count": null,
   "metadata": {
    "scrolled": true
   },
   "outputs": [],
   "source": [
    "Gnuplot.save(\"dGs_Ers.png\", term=\"pngcairo size 600,400 fontscale 1.0\")"
   ]
  },
  {
   "cell_type": "code",
   "execution_count": null,
   "metadata": {},
   "outputs": [],
   "source": []
  },
  {
   "cell_type": "code",
   "execution_count": null,
   "metadata": {},
   "outputs": [],
   "source": [
    "moms1 = calcfast( Tm = Tspan, ħωₑ = 3.0, τₑ = 0.4 );\n",
    "moms2 = calcfast( Tm = Tspan, ħωₑ = 3.0, τₑ = 0.2 );\n",
    "moms3 = calcfast( Tm = Tspan, ħωₑ = 3.0, τₑ = 0.04 );\n",
    "moms1b = calcfast( Tm = Tspan, ħωₑ = 3.5, τₑ = 0.1 );\n",
    "moms3b = calcfast( Tm = Tspan, ħωₑ = 2.5, τₑ = 0.1 );"
   ]
  },
  {
   "cell_type": "code",
   "execution_count": null,
   "metadata": {},
   "outputs": [],
   "source": [
    "fs = 16\n",
    "  # Helvetica Bold,20\n",
    "@gp \"set xlabel 't, пс' font 'Times New Roman,$fs'\"\n",
    "@gp :- \"set ylabel 'ħω, эВ' font 'Times New Roman,$fs'\"\n",
    "@gp :- \"set key right top title 'τₑ, пс' font 'Times New Roman,$fs'\"\n",
    "@gp :-   Tspan moms1 \"with lines tit '0.4' dt 1 lw 2 lc rgb 'red'\"\n",
    "@gp :-   Tspan moms2 \"with lines tit '0.2' dt 1 lw 2 lc rgb 'black'\"\n",
    "@gp :-   Tspan moms3 \"with lines tit '0.01' dt 1 lw 2 lc rgb 'blue'\"\n",
    "@gp :-   Tspan moms1b \"with lines notit dt 3 lw 3 lc rgb 'black'\"\n",
    "@gp :-   Tspan moms3b \"with lines notit dt 2 lw 3 lc rgb 'black'\""
   ]
  },
  {
   "cell_type": "code",
   "execution_count": null,
   "metadata": {},
   "outputs": [],
   "source": [
    "Gnuplot.save(\"taues.png\", term=\"pngcairo size 600,400 fontscale 1.0\")"
   ]
  },
  {
   "cell_type": "code",
   "execution_count": null,
   "metadata": {},
   "outputs": [],
   "source": []
  },
  {
   "cell_type": "code",
   "execution_count": null,
   "metadata": {},
   "outputs": [],
   "source": [
    "moms1 = calcfast( Tm = Tspan, γ = 5e-3, Ωᵣ = 1e-2, td = 4.0, tq = 1.0, weights = [0.3, 0.3, 0.4] );\n",
    "moms2 = calcfast( Tm = Tspan, γ = 5e-3, Ωᵣ = 1e-2, td = 1.0, tq = 1.0, weights = [0.3, 0.3, 0.4] );\n",
    "moms3 = calcfast( Tm = Tspan, γ = 5e-3, Ωᵣ = 1e-2, td = 0.5, tq = 1.0, weights = [0.3, 0.3, 0.4] );\n",
    "\n",
    "moms1b = calcfast( Tm = Tspan, γ = 5e-3, Ωᵣ = 1e-2, td = 4.0, tq = 1.0, weights = [0.5, 0.3, 0.2] );\n",
    "moms2b = calcfast( Tm = Tspan, γ = 5e-3, Ωᵣ = 1e-2, td = 1.0, tq = 1.0, weights = [0.5, 0.3, 0.2] );\n",
    "moms3b = calcfast( Tm = Tspan, γ = 5e-3, Ωᵣ = 1e-2, td = 0.5, tq = 1.0, weights = [0.5, 0.3, 0.2] );"
   ]
  },
  {
   "cell_type": "code",
   "execution_count": null,
   "metadata": {
    "scrolled": false
   },
   "outputs": [],
   "source": [
    "fs = 16\n",
    "  # Helvetica Bold,20\n",
    "@gp \"set xlabel 't, пс' font 'Times New Roman,$fs'\"\n",
    "@gp :- \"set ylabel 'ħω, эВ' font 'Times New Roman,$fs'\"\n",
    "@gp :- \"set key right top title 'τ, пс' font 'Times New Roman,$fs'\"\n",
    "@gp :-   Tspan moms1b \"with lines notit dt 4 lw 3 lc rgb 'red'\"\n",
    "@gp :-   Tspan moms2b \"with lines notit dt 4 lw 3 lc rgb 'black'\"\n",
    "@gp :-   Tspan moms3b \"with lines notit dt 4 lw 3 lc rgb 'blue'\"\n",
    "@gp :-   Tspan moms1 \"with lines tit '4.0' dt 1 lw 2 lc rgb 'red'\"\n",
    "@gp :-   Tspan moms2 \"with lines tit '1.0' dt 1 lw 2 lc rgb 'black'\"\n",
    "@gp :-   Tspan moms3 \"with lines tit '0.5' dt 1 lw 2 lc rgb 'blue'\""
   ]
  },
  {
   "cell_type": "code",
   "execution_count": null,
   "metadata": {},
   "outputs": [],
   "source": [
    "Gnuplot.save(\"weights.png\", term=\"pngcairo size 600,400 fontscale 1.0\")"
   ]
  },
  {
   "cell_type": "code",
   "execution_count": null,
   "metadata": {},
   "outputs": [],
   "source": []
  },
  {
   "cell_type": "code",
   "execution_count": null,
   "metadata": {},
   "outputs": [],
   "source": []
  }
 ],
 "metadata": {
  "@webio": {
   "lastCommId": null,
   "lastKernelId": null
  },
  "kernelspec": {
   "display_name": "Julia 1.10.4",
   "language": "julia",
   "name": "julia-1.10"
  },
  "language_info": {
   "file_extension": ".jl",
   "mimetype": "application/julia",
   "name": "julia",
   "version": "1.10.4"
  }
 },
 "nbformat": 4,
 "nbformat_minor": 2
}
